{
 "cells": [
  {
   "cell_type": "markdown",
   "id": "91cb3c71",
   "metadata": {},
   "source": [
    "# Federated Gradient Descent\n",
    "\n",
    "This Notebook aims to be an introduction to how Gradient Descent works in a federated environment. Theoretical Explanations will be intertwined with the implementation of a Code Example in Python."
   ]
  },
  {
   "cell_type": "code",
   "execution_count": 4,
   "id": "e0b93633",
   "metadata": {},
   "outputs": [],
   "source": [
    "import random\n",
    "\n",
    "import torch\n",
    "from torch import optim, nn\n",
    "from torch.autograd import Variable\n",
    "from torch.utils.data import DataLoader\n",
    "\n",
    "from abc import ABC\n",
    "\n",
    "from matplotlib import pyplot as plt\n",
    "\n",
    "from torchvision import datasets\n",
    "from torchvision import transforms"
   ]
  }
 ],
 "metadata": {
  "kernelspec": {
   "display_name": "Python 3",
   "language": "python",
   "name": "python3"
  },
  "language_info": {
   "codemirror_mode": {
    "name": "ipython",
    "version": 3
   },
   "file_extension": ".py",
   "mimetype": "text/x-python",
   "name": "python",
   "nbconvert_exporter": "python",
   "pygments_lexer": "ipython3",
   "version": "3.12.1"
  }
 },
 "nbformat": 4,
 "nbformat_minor": 5
}
